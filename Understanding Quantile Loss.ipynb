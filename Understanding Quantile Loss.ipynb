{
 "cells": [
  {
   "cell_type": "code",
   "execution_count": 14,
   "metadata": {},
   "outputs": [],
   "source": [
    "from scipy import stats\n",
    "import numpy as np"
   ]
  },
  {
   "cell_type": "code",
   "execution_count": 165,
   "metadata": {},
   "outputs": [
    {
     "data": {
      "text/plain": [
       "0.9999976293957629"
      ]
     },
     "execution_count": 165,
     "metadata": {},
     "output_type": "execute_result"
    }
   ],
   "source": [
    "r = stats.norm.rvs(size=1000000)\n",
    "weight   = 0.5\n",
    "quantile = 0.5 # p50\n",
    "(\n",
    "    2 \n",
    "    * \n",
    "    sum (\n",
    "        (weight     * np.maximum( r- np.quantile(r, quantile), 0)) \n",
    "        + \n",
    "        ((1-weight) * np.maximum( np.quantile(r, quantile)-r,  0))\n",
    "    ) \n",
    "    / \n",
    "    sum(abs(r))\n",
    ")\n",
    "\n"
   ]
  },
  {
   "cell_type": "code",
   "execution_count": 166,
   "metadata": {},
   "outputs": [
    {
     "data": {
      "text/plain": [
       "1.7252093850567853"
      ]
     },
     "execution_count": 166,
     "metadata": {},
     "output_type": "execute_result"
    }
   ],
   "source": [
    "r = stats.norm.rvs(size=1000000)\n",
    "weight   = 0.5\n",
    "quantile = 0.9\n",
    "(\n",
    "    2 \n",
    "    * \n",
    "    sum (\n",
    "        (weight     * np.maximum( r- np.quantile(r, quantile), 0)) \n",
    "        + \n",
    "        ((1-weight) * np.maximum( np.quantile(r, quantile)-r,  0))\n",
    "    ) \n",
    "    / \n",
    "    sum(abs(r))\n",
    ")\n",
    "\n"
   ]
  },
  {
   "cell_type": "code",
   "execution_count": 167,
   "metadata": {},
   "outputs": [
    {
     "data": {
      "text/plain": [
       "0.44003885317161406"
      ]
     },
     "execution_count": 167,
     "metadata": {},
     "output_type": "execute_result"
    }
   ],
   "source": [
    "r = stats.norm.rvs(size=1000000)\n",
    "weight   = 0.9\n",
    "quantile = 0.9\n",
    "(\n",
    "    2 \n",
    "    * \n",
    "    sum (\n",
    "        (weight     * np.maximum( r- np.quantile(r, quantile), 0)) \n",
    "        + \n",
    "        ((1-weight) * np.maximum( np.quantile(r, quantile)-r,  0))\n",
    "    ) \n",
    "    / \n",
    "    sum(abs(r))\n",
    ")\n",
    "\n"
   ]
  },
  {
   "cell_type": "code",
   "execution_count": 168,
   "metadata": {},
   "outputs": [
    {
     "data": {
      "text/plain": [
       "1.0022222575684463"
      ]
     },
     "execution_count": 168,
     "metadata": {},
     "output_type": "execute_result"
    }
   ],
   "source": [
    "r = stats.norm.rvs(size=1000000)\n",
    "weight   = 0.9\n",
    "quantile = 0.5\n",
    "(\n",
    "    2 \n",
    "    * \n",
    "    sum (\n",
    "        (weight     * np.maximum( r- np.quantile(r, quantile), 0)) \n",
    "        + \n",
    "        ((1-weight) * np.maximum( np.quantile(r, quantile)-r,  0))\n",
    "    ) \n",
    "    / \n",
    "    sum(abs(r))\n",
    ")\n",
    "\n"
   ]
  },
  {
   "cell_type": "code",
   "execution_count": null,
   "metadata": {},
   "outputs": [],
   "source": []
  }
 ],
 "metadata": {
  "kernelspec": {
   "display_name": "Python 3",
   "language": "python",
   "name": "python3"
  },
  "language_info": {
   "codemirror_mode": {
    "name": "ipython",
    "version": 3
   },
   "file_extension": ".py",
   "mimetype": "text/x-python",
   "name": "python",
   "nbconvert_exporter": "python",
   "pygments_lexer": "ipython3",
   "version": "3.7.4"
  }
 },
 "nbformat": 4,
 "nbformat_minor": 2
}
